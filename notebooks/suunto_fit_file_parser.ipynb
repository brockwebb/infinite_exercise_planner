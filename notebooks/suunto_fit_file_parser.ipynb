{
 "cells": [
  {
   "cell_type": "code",
   "execution_count": 1,
   "id": "2ed342f0-9ab5-43e3-93d9-fe40fa5b4ee4",
   "metadata": {},
   "outputs": [
    {
     "name": "stdout",
     "output_type": "stream",
     "text": [
      "Collecting fitparse\n",
      "  Downloading fitparse-1.2.0.tar.gz (65 kB)\n",
      "  Preparing metadata (setup.py) ... \u001b[?25ldone\n",
      "\u001b[?25hBuilding wheels for collected packages: fitparse\n",
      "  Building wheel for fitparse (setup.py) ... \u001b[?25ldone\n",
      "\u001b[?25h  Created wheel for fitparse: filename=fitparse-1.2.0-py3-none-any.whl size=68213 sha256=45897acc1fa46c20d93d715eeb30b16f3a0fa475210a3ac727bed072eed39452\n",
      "  Stored in directory: /Users/brock/Library/Caches/pip/wheels/54/14/72/b54dcabc07cc3ef598e897698d9018a63acbeb6adac1cdf6d5\n",
      "Successfully built fitparse\n",
      "Installing collected packages: fitparse\n",
      "Successfully installed fitparse-1.2.0\n"
     ]
    }
   ],
   "source": [
    "!pip install fitparse"
   ]
  },
  {
   "cell_type": "code",
   "execution_count": 5,
   "id": "47132a2b-681c-41a0-9368-89150fb2b48e",
   "metadata": {},
   "outputs": [
    {
     "name": "stdout",
     "output_type": "stream",
     "text": [
      "{'avg_heart_rate': 150, 'avg_running_cadence': 77, 'avg_speed': 2.708, 'avg_temperature': 13, 'enhanced_avg_speed': 2.708, 'enhanced_max_altitude': 52.0, 'enhanced_max_speed': 3.59, 'enhanced_min_altitude': 18.0, 'event': 'session', 'event_type': 'stop', 'max_altitude': 52.0, 'max_heart_rate': 171, 'max_running_cadence': 92, 'max_speed': 3.59, 'max_temperature': 25, 'min_altitude': 18.0, 'min_heart_rate': 74, 'recovery_time': 209220, 'sport': 'running', 'start_time': datetime.datetime(2024, 12, 15, 14, 16, 50), 'timestamp': datetime.datetime(2024, 12, 15, 16, 0, 30), 'total_ascent': 123, 'total_calories': 1255, 'total_descent': 123, 'total_distance': 16541.0, 'total_elapsed_time': 6220.177, 'total_timer_time': 6108.3, 'total_training_effect': 5.0, 'training_stress_score': 150.7}\n",
      "{'event': 'activity', 'event_type': 'stop', 'local_timestamp': datetime.datetime(2024, 12, 15, 16, 0, 30), 'num_sessions': 1, 'timestamp': datetime.datetime(2024, 12, 15, 16, 0, 30), 'type': 'manual'}\n"
     ]
    }
   ],
   "source": [
    "from fitparse import FitFile\n",
    "\n",
    "# Load a .FIT file\n",
    "fitfile = FitFile('../data/suunto_logs/2024-12-15-Run.fit')\n",
    "\n",
    "# Iterate over all messages of type 'session' (contains activity data points)\n",
    "for session in fitfile.get_messages('session'):\n",
    "    data = {}\n",
    "    for field in session:\n",
    "        # field is a FieldData object with attributes name and value\n",
    "        data[field.name] = field.value\n",
    "    print(data)\n",
    "\n",
    "# Iterate over all messages of type 'activity' (contains activity data points)\n",
    "for activity in fitfile.get_messages('activity'):\n",
    "    data = {}\n",
    "    for field in activity:\n",
    "        # field is a FieldData object with attributes name and value\n",
    "        data[field.name] = field.value\n",
    "    print(data)\n"
   ]
  },
  {
   "cell_type": "code",
   "execution_count": null,
   "id": "38e09df8-a3ee-406c-98a8-b237f6547915",
   "metadata": {},
   "outputs": [],
   "source": []
  }
 ],
 "metadata": {
  "kernelspec": {
   "display_name": "Python (Python312)",
   "language": "python",
   "name": "python312"
  },
  "language_info": {
   "codemirror_mode": {
    "name": "ipython",
    "version": 3
   },
   "file_extension": ".py",
   "mimetype": "text/x-python",
   "name": "python",
   "nbconvert_exporter": "python",
   "pygments_lexer": "ipython3",
   "version": "3.11.8"
  }
 },
 "nbformat": 4,
 "nbformat_minor": 5
}
